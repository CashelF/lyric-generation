{
 "cells": [
  {
   "cell_type": "code",
   "execution_count": null,
   "metadata": {},
   "outputs": [
    {
     "name": "stderr",
     "output_type": "stream",
     "text": [
      "2024-04-29 07:55:15.575422: E external/local_xla/xla/stream_executor/cuda/cuda_dnn.cc:9261] Unable to register cuDNN factory: Attempting to register factory for plugin cuDNN when one has already been registered\n",
      "2024-04-29 07:55:15.575530: E external/local_xla/xla/stream_executor/cuda/cuda_fft.cc:607] Unable to register cuFFT factory: Attempting to register factory for plugin cuFFT when one has already been registered\n",
      "2024-04-29 07:55:15.729362: E external/local_xla/xla/stream_executor/cuda/cuda_blas.cc:1515] Unable to register cuBLAS factory: Attempting to register factory for plugin cuBLAS when one has already been registered\n"
     ]
    }
   ],
   "source": [
    "from transformers import GPT2LMHeadModel, GPT2Tokenizer, Trainer, TrainingArguments\n",
    "from datasets import load_dataset\n",
    "from sklearn.metrics.pairwise import cosine_similarity\n",
    "import torch\n",
    "from transformers import pipeline"
   ]
  },
  {
   "cell_type": "markdown",
   "metadata": {},
   "source": [
    "# Load Dataset"
   ]
  },
  {
   "cell_type": "code",
   "execution_count": null,
   "metadata": {},
   "outputs": [
    {
     "data": {
      "application/vnd.jupyter.widget-view+json": {
       "model_id": "662a7b50b8e14a6e895c22bd31bcb9a0",
       "version_major": 2,
       "version_minor": 0
      },
      "text/plain": [
       "Generating train split: 0 examples [00:00, ? examples/s]"
      ]
     },
     "metadata": {},
     "output_type": "display_data"
    }
   ],
   "source": [
    "dataset = load_dataset(\"amishshah/song_lyrics\")\n",
    "dataset = dataset[\"train\"].shuffle(seed=42)\n",
    "subset_size = 1000\n",
    "dataset = dataset.select(range(subset_size))\n",
    "train_test_dataset = dataset.train_test_split(test_size=0.1)\n",
    "train_dataset = train_test_dataset[\"train\"]\n",
    "val_dataset = train_test_dataset[\"test\"]\n",
    "#train_test_dataset = dataset[\"train\"].train_test_split(test_size=0.1)\n",
    "#train_dataset = train_test_dataset[\"train\"]\n",
    "#val_dataset = train_test_dataset[\"test\"]"
   ]
  },
  {
   "cell_type": "markdown",
   "metadata": {},
   "source": [
    "# Load tokenizer and pre-trained model"
   ]
  },
  {
   "cell_type": "code",
   "execution_count": null,
   "metadata": {},
   "outputs": [],
   "source": [
    "from transformers import GPT2Tokenizer, GPT2LMHeadModel, Trainer, TrainingArguments, DataCollatorForLanguageModeling\n",
    "from datasets import load_dataset\n",
    "\n",
    "# Load tokenizer and model\n",
    "tokenizer = GPT2Tokenizer.from_pretrained(\"gpt2\")\n",
    "model = GPT2LMHeadModel.from_pretrained(\"gpt2\")\n",
    "\n",
    "# Ensure that tokenizer has padding token set\n",
    "if tokenizer.pad_token is None:\n",
    "    tokenizer.pad_token = tokenizer.eos_token"
   ]
  },
  {
   "cell_type": "markdown",
   "metadata": {},
   "source": [
    "# Tokenize Dataset"
   ]
  },
  {
   "cell_type": "code",
   "execution_count": null,
   "metadata": {},
   "outputs": [],
   "source": [
    "def tokenize_function(examples):\n",
    "    # Prepend the tag to each lyric in the batch\n",
    "    concatenated_lyrics = [\"[Genre: \" + tag + \"] \" + lyric for tag, lyric in zip(examples[\"tag\"], examples[\"lyrics\"])]\n",
    "    return tokenizer(concatenated_lyrics, truncation=True, padding=\"max_length\", max_length=512)\n",
    "\n",
    "\n",
    "train_dataset = train_dataset.map(tokenize_function, batched=True)\n",
    "val_dataset = val_dataset.map(tokenize_function, batched=True)"
   ]
  },
  {
   "cell_type": "markdown",
   "metadata": {},
   "source": [
    "# Fine-tuning"
   ]
  },
  {
   "cell_type": "code",
   "execution_count": null,
   "metadata": {},
   "outputs": [],
   "source": [
    "# Set training arguments\n",
    "training_args = TrainingArguments(\n",
    "    output_dir='./results',\n",
    "    num_train_epochs=4,\n",
    "    per_device_train_batch_size=4,\n",
    "    per_device_eval_batch_size=8,\n",
    "    warmup_steps=500,\n",
    "    weight_decay=0.01,\n",
    "    logging_dir='./logs',\n",
    "    logging_steps=100,\n",
    ")\n",
    "\n",
    "# Initialize Trainer\n",
    "data_collator = DataCollatorForLanguageModeling(tokenizer=tokenizer, mlm=False)\n",
    "trainer = Trainer(\n",
    "    model=model,\n",
    "    args=training_args,\n",
    "    data_collator=data_collator,\n",
    "    train_dataset=train_dataset,\n",
    "    eval_dataset=val_dataset\n",
    ")"
   ]
  },
  {
   "cell_type": "code",
   "execution_count": null,
   "metadata": {},
   "outputs": [],
   "source": [
    "# Check if GPU is available and if not, use CPU\n",
    "device = torch.device('cuda' if torch.cuda.is_available() else 'cpu')\n",
    "print(\"Device: \", device)\n",
    "\n",
    "model.to(device)\n",
    "# Train the model\n",
    "trainer.train()"
   ]
  },
  {
   "cell_type": "code",
   "execution_count": null,
   "metadata": {},
   "outputs": [],
   "source": [
    "model_path = './results'"
   ]
  },
  {
   "cell_type": "code",
   "execution_count": null,
   "metadata": {},
   "outputs": [],
   "source": [
    "# Save the model and tokenizer\n",
    "model.save_pretrained(model_path)\n",
    "tokenizer.save_pretrained(model_path)"
   ]
  },
  {
   "cell_type": "markdown",
   "metadata": {},
   "source": [
    "# Lyric Generation"
   ]
  },
  {
   "cell_type": "code",
   "execution_count": null,
   "metadata": {},
   "outputs": [],
   "source": [
    "# Load the model and tokenizer for text generation\n",
    "from transformers import pipeline\n",
    "\n",
    "# Ensure your model and tokenizer are loaded correctly\n",
    "text_generator = pipeline('text-generation', model=model_path, tokenizer=model_path)\n",
    "\n",
    "# Example of generating genre-specific text\n",
    "genre = \"rap\"  # Replace with any genre present in your dataset\n",
    "\n",
    "prompt = f\"[Genre: {genre}] \"\n",
    "results = text_generator(prompt, max_length=500)\n",
    "print(results[0]['generated_text'])"
   ]
  },
  {
   "cell_type": "markdown",
   "metadata": {},
   "source": [
    "# Load in a fine-tuned model"
   ]
  },
  {
   "cell_type": "code",
   "execution_count": null,
   "metadata": {},
   "outputs": [],
   "source": [
    "model = GPT2LMHeadModel.from_pretrained(model_path)"
   ]
  },
  {
   "cell_type": "markdown",
   "metadata": {},
   "source": [
    "# Evaluate fine-tuning using perplexity"
   ]
  },
  {
   "cell_type": "code",
   "execution_count": null,
   "metadata": {},
   "outputs": [
    {
     "name": "stdout",
     "output_type": "stream",
     "text": [
      "Perplexity of Pretrained Model: 981.9048461914062\n",
      "Perplexity of Base GPT-2 Model: 989.9269409179688\n"
     ]
    }
   ],
   "source": [
    "import torch\n",
    "from transformers import GPT2LMHeadModel, GPT2Tokenizer\n",
    "\n",
    "def calculate_perplexity(model, tokenizer, text):\n",
    "    encode = tokenizer.encode(text, return_tensors='pt')\n",
    "    with torch.no_grad():\n",
    "        outputs = model(encode, labels=encode)\n",
    "        loss = outputs[0]\n",
    "\n",
    "    return torch.exp(loss).item()\n",
    "\n",
    "# Load models and tokenizer\n",
    "model_pretrained = GPT2LMHeadModel.from_pretrained(model_path)\n",
    "model_base = GPT2LMHeadModel.from_pretrained('gpt2')\n",
    "tokenizer = GPT2Tokenizer.from_pretrained('gpt2')\n",
    "\n",
    "# Example text\n",
    "text = \"Complete this lyric about love and loss:\"\n",
    "\n",
    "# Calculate perplexity\n",
    "perplexity_pretrained = calculate_perplexity(model_pretrained, tokenizer, text)\n",
    "perplexity_base = calculate_perplexity(model_base, tokenizer, text)\n",
    "\n",
    "print(f'Perplexity of Pretrained Model: {perplexity_pretrained}')\n",
    "print(f'Perplexity of Base GPT-2 Model: {perplexity_base}')\n"
   ]
  },
  {
   "cell_type": "markdown",
   "metadata": {},
   "source": [
    "# Evaluate fine-tuning using rouge-score"
   ]
  },
  {
   "cell_type": "code",
   "execution_count": null,
   "metadata": {},
   "outputs": [],
   "source": [
    "masked_song_prompt = \"Hello darkness, my old ****, I've come to **** with you again, Because a vision softly ****,\"\n",
    "unmasked_song_prompt = '''Hello darkness, my old friend\n",
    "I've come to talk with you again\n",
    "Because a vision softly creeping'''"
   ]
  },
  {
   "cell_type": "code",
   "execution_count": null,
   "metadata": {},
   "outputs": [],
   "source": [
    "from rouge_score import rouge_scorer\n",
    "\n",
    "# Load models and tokenizer\n",
    "model_base = GPT2LMHeadModel.from_pretrained('gpt2')\n",
    "tokenizer = GPT2Tokenizer.from_pretrained('gpt2')\n",
    "\n",
    "text_generator_finetuned = pipeline('text-generation', model=model_path, tokenizer=model_path)\n",
    "generated_lyrics_finetuned = text_generator(masked_song_prompt, max_length=500)[0]['generated_text']\n",
    "\n",
    "text_generator_base = pipeline('text-generation', model=model_base, tokenizer=tokenizer)\n",
    "generated_lyrics_base = text_generator(masked_song_prompt, max_length=500)[0]['generated_text']\n",
    "\n",
    "# Initialize the ROUGE scorer, you can specify which rouge types to calculate\n",
    "scorer = rouge_scorer.RougeScorer(['rouge1', 'rouge2', 'rougeL'], use_stemmer=True)\n",
    "\n",
    "# Function to calculate average scores\n",
    "def calculate_average_rouge(generated, references):\n",
    "    scores = {'rouge1': [], 'rouge2': [], 'rougeL': []}\n",
    "    \n",
    "    for gen, ref in zip(generated, references):\n",
    "        score = scorer.score(ref, gen)\n",
    "        for key in scores.keys():\n",
    "            scores[key].append(score[key].fmeasure)\n",
    "    \n",
    "    average_scores = {key: sum(values) / len(values) for key, values in scores.items()}\n",
    "    return average_scores\n",
    "\n",
    "# Calculate average ROUGE scores\n",
    "average_scores_base = calculate_average_rouge(generated_lyrics_base, unmasked_song_prompt)\n",
    "print(\"Average ROUGE scores for base GPT-2:\", average_scores)\n",
    "\n",
    "average_scores_finetuned = calculate_average_rouge(generated_lyrics_finetuned, unmasked_song_prompt)\n",
    "print(\"Average ROUGE scores for finetuned model:\", average_scores)\n"
   ]
  },
  {
   "cell_type": "markdown",
   "metadata": {},
   "source": [
    "# Evaluate using ChatGPT"
   ]
  },
  {
   "cell_type": "code",
   "execution_count": null,
   "metadata": {},
   "outputs": [],
   "source": [
    "from openai import OpenAI\n",
    "\n",
    "client = OpenAI(\n",
    "    api_key=\"sk-proj-7u1gcybaXUsYd0kOQVXkT3BlbkFJmTc0ma2dcvlxqf1k9Te2\",\n",
    ")\n",
    "\n",
    "def compare_lyrics(lyrics1, lyrics2):\n",
    "    prompt_text = f\"Here are two sets of song lyrics:\\n\\nLyrics A:\\n{lyrics1}\\n\\nLyrics B:\\n{lyrics2}\\n\\nWhich set of lyrics do you think is better?\"\n",
    "    \n",
    "    chat_completion = client.chat.completions.create(\n",
    "        messages=[\n",
    "            {\n",
    "                \"role\": \"user\",\n",
    "                \"content\": prompt_text,\n",
    "            }\n",
    "        ],\n",
    "        model=\"gpt-3.5-turbo\",\n",
    "    )\n",
    "\n",
    "#     print(response.choices[0].text.strip())\n",
    "    print(chat_completion.choices[0].message)\n",
    "    \n",
    "    \n",
    "prompt = \"Complete this lyric about love and loss:\"\n",
    "# Load models and tokenizer\n",
    "model_base = GPT2LMHeadModel.from_pretrained('gpt2')\n",
    "tokenizer = GPT2Tokenizer.from_pretrained('gpt2')\n",
    "\n",
    "text_generator_finetuned = pipeline('text-generation', model=model_path, tokenizer=model_path)\n",
    "generated_lyrics_finetuned = text_generator_finetuned(prompt, max_length=500, truncation=True)[0]['generated_text']\n",
    "\n",
    "text_generator_base = pipeline('text-generation', model=model_base, tokenizer=tokenizer)\n",
    "generated_lyrics_base = text_generator_base(prompt, max_length=500, truncation=True)[0]['generated_text']\n",
    "\n",
    "# Call the function to compare the lyrics\n",
    "compare_lyrics(generated_lyrics_base, generated_lyrics_finetuned)\n",
    "# Lyrics A is the first parameter, Lyrics B is the second parameter"
   ]
  }
 ],
 "metadata": {
  "language_info": {
   "name": "python"
  }
 },
 "nbformat": 4,
 "nbformat_minor": 2
}
